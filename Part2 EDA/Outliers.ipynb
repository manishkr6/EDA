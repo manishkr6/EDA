{
 "cells": [
  {
   "cell_type": "markdown",
   "id": "e3ca519c",
   "metadata": {},
   "source": [
    "### 3-Sigma Technique (Standard Deviation)"
   ]
  },
  {
   "cell_type": "code",
   "execution_count": 1,
   "id": "498d3641",
   "metadata": {},
   "outputs": [],
   "source": [
    "import numpy as np\n",
    "import matplotlib.pyplot as plt\n",
    "import statistics\n",
    "import pandas as pd"
   ]
  },
  {
   "cell_type": "code",
   "execution_count": 2,
   "id": "f9198984",
   "metadata": {},
   "outputs": [
    {
     "data": {
      "application/vnd.microsoft.datawrangler.viewer.v0+json": {
       "columns": [
        {
         "name": "index",
         "rawType": "int64",
         "type": "integer"
        },
        {
         "name": "datesold",
         "rawType": "object",
         "type": "string"
        },
        {
         "name": "postcode",
         "rawType": "int64",
         "type": "integer"
        },
        {
         "name": "price",
         "rawType": "int64",
         "type": "integer"
        },
        {
         "name": "propertyType",
         "rawType": "object",
         "type": "string"
        },
        {
         "name": "bedrooms",
         "rawType": "int64",
         "type": "integer"
        }
       ],
       "ref": "46064a8a-019f-4e45-a101-5d51cd19d44c",
       "rows": [
        [
         "0",
         "2007-02-07 00:00:00",
         "2607",
         "525000",
         "house",
         "4"
        ],
        [
         "1",
         "2007-02-27 00:00:00",
         "2906",
         "290000",
         "house",
         "3"
        ],
        [
         "2",
         "2007-03-07 00:00:00",
         "2905",
         "328000",
         "house",
         "3"
        ],
        [
         "3",
         "2007-03-09 00:00:00",
         "2905",
         "380000",
         "house",
         "4"
        ],
        [
         "4",
         "2007-03-21 00:00:00",
         "2906",
         "310000",
         "house",
         "3"
        ]
       ],
       "shape": {
        "columns": 5,
        "rows": 5
       }
      },
      "text/html": [
       "<div>\n",
       "<style scoped>\n",
       "    .dataframe tbody tr th:only-of-type {\n",
       "        vertical-align: middle;\n",
       "    }\n",
       "\n",
       "    .dataframe tbody tr th {\n",
       "        vertical-align: top;\n",
       "    }\n",
       "\n",
       "    .dataframe thead th {\n",
       "        text-align: right;\n",
       "    }\n",
       "</style>\n",
       "<table border=\"1\" class=\"dataframe\">\n",
       "  <thead>\n",
       "    <tr style=\"text-align: right;\">\n",
       "      <th></th>\n",
       "      <th>datesold</th>\n",
       "      <th>postcode</th>\n",
       "      <th>price</th>\n",
       "      <th>propertyType</th>\n",
       "      <th>bedrooms</th>\n",
       "    </tr>\n",
       "  </thead>\n",
       "  <tbody>\n",
       "    <tr>\n",
       "      <th>0</th>\n",
       "      <td>2007-02-07 00:00:00</td>\n",
       "      <td>2607</td>\n",
       "      <td>525000</td>\n",
       "      <td>house</td>\n",
       "      <td>4</td>\n",
       "    </tr>\n",
       "    <tr>\n",
       "      <th>1</th>\n",
       "      <td>2007-02-27 00:00:00</td>\n",
       "      <td>2906</td>\n",
       "      <td>290000</td>\n",
       "      <td>house</td>\n",
       "      <td>3</td>\n",
       "    </tr>\n",
       "    <tr>\n",
       "      <th>2</th>\n",
       "      <td>2007-03-07 00:00:00</td>\n",
       "      <td>2905</td>\n",
       "      <td>328000</td>\n",
       "      <td>house</td>\n",
       "      <td>3</td>\n",
       "    </tr>\n",
       "    <tr>\n",
       "      <th>3</th>\n",
       "      <td>2007-03-09 00:00:00</td>\n",
       "      <td>2905</td>\n",
       "      <td>380000</td>\n",
       "      <td>house</td>\n",
       "      <td>4</td>\n",
       "    </tr>\n",
       "    <tr>\n",
       "      <th>4</th>\n",
       "      <td>2007-03-21 00:00:00</td>\n",
       "      <td>2906</td>\n",
       "      <td>310000</td>\n",
       "      <td>house</td>\n",
       "      <td>3</td>\n",
       "    </tr>\n",
       "  </tbody>\n",
       "</table>\n",
       "</div>"
      ],
      "text/plain": [
       "              datesold  postcode   price propertyType  bedrooms\n",
       "0  2007-02-07 00:00:00      2607  525000        house         4\n",
       "1  2007-02-27 00:00:00      2906  290000        house         3\n",
       "2  2007-03-07 00:00:00      2905  328000        house         3\n",
       "3  2007-03-09 00:00:00      2905  380000        house         4\n",
       "4  2007-03-21 00:00:00      2906  310000        house         3"
      ]
     },
     "execution_count": 2,
     "metadata": {},
     "output_type": "execute_result"
    }
   ],
   "source": [
    "data = pd.read_csv('data/raw_sales.csv')\n",
    "data.head()"
   ]
  },
  {
   "cell_type": "code",
   "execution_count": 3,
   "id": "2d7351c2",
   "metadata": {},
   "outputs": [
    {
     "data": {
      "text/plain": [
       "pandas.core.frame.DataFrame"
      ]
     },
     "execution_count": 3,
     "metadata": {},
     "output_type": "execute_result"
    }
   ],
   "source": [
    "type(data)"
   ]
  },
  {
   "cell_type": "code",
   "execution_count": 4,
   "id": "45e5ced0",
   "metadata": {},
   "outputs": [],
   "source": [
    "# Function to Detection Outlier on one-dimentional datasets.\n",
    "def find_anomalies(data):\n",
    "    # define a list to accumlate anomalies\n",
    "    anomalies = []\n",
    "    \n",
    "    # set upper and lower limit to 3 standard deviation\n",
    "    random_data_std = statistics.stdev(data)\n",
    "    random_data_mean = statistics.mean(data)\n",
    "    \n",
    "    # 3-standard deviation\n",
    "    anomay_cut_off = random_data_std * 3\n",
    "    \n",
    "    lower_limit = random_data_mean - anomay_cut_off\n",
    "    upper_limit = random_data_mean + anomay_cut_off\n",
    "    \n",
    "    # Generate outliers\n",
    "    for outlier in data:\n",
    "        if outlier > upper_limit or outlier < lower_limit:\n",
    "            anomalies.append(outlier)\n",
    "    return anomalies"
   ]
  },
  {
   "cell_type": "code",
   "execution_count": 5,
   "id": "7be72336",
   "metadata": {},
   "outputs": [
    {
     "data": {
      "application/vnd.microsoft.datawrangler.viewer.v0+json": {
       "columns": [
        {
         "name": "index",
         "rawType": "int64",
         "type": "integer"
        },
        {
         "name": "price",
         "rawType": "int64",
         "type": "integer"
        }
       ],
       "ref": "55fe7627-9682-4c42-8653-2821313b7309",
       "rows": [
        [
         "0",
         "525000"
        ],
        [
         "1",
         "290000"
        ],
        [
         "2",
         "328000"
        ],
        [
         "3",
         "380000"
        ],
        [
         "4",
         "310000"
        ],
        [
         "5",
         "465000"
        ],
        [
         "6",
         "399000"
        ],
        [
         "7",
         "1530000"
        ],
        [
         "8",
         "359000"
        ],
        [
         "9",
         "320000"
        ],
        [
         "10",
         "385000"
        ],
        [
         "11",
         "305000"
        ],
        [
         "12",
         "850000"
        ],
        [
         "13",
         "765000"
        ],
        [
         "14",
         "517000"
        ],
        [
         "15",
         "800000"
        ],
        [
         "16",
         "336000"
        ],
        [
         "17",
         "535000"
        ],
        [
         "18",
         "900000"
        ],
        [
         "19",
         "327000"
        ],
        [
         "20",
         "427500"
        ],
        [
         "21",
         "780000"
        ],
        [
         "22",
         "530000"
        ],
        [
         "23",
         "590000"
        ],
        [
         "24",
         "525000"
        ],
        [
         "25",
         "549000"
        ],
        [
         "26",
         "1780000"
        ],
        [
         "27",
         "446000"
        ],
        [
         "28",
         "558000"
        ],
        [
         "29",
         "506000"
        ],
        [
         "30",
         "520000"
        ],
        [
         "31",
         "383000"
        ],
        [
         "32",
         "520000"
        ],
        [
         "33",
         "815000"
        ],
        [
         "34",
         "545500"
        ],
        [
         "35",
         "760000"
        ],
        [
         "36",
         "520000"
        ],
        [
         "37",
         "636000"
        ],
        [
         "38",
         "625000"
        ],
        [
         "39",
         "790000"
        ],
        [
         "40",
         "320000"
        ],
        [
         "41",
         "418000"
        ],
        [
         "42",
         "455000"
        ],
        [
         "43",
         "560000"
        ],
        [
         "44",
         "585000"
        ],
        [
         "45",
         "325000"
        ],
        [
         "46",
         "420000"
        ],
        [
         "47",
         "599000"
        ],
        [
         "48",
         "315000"
        ],
        [
         "49",
         "367000"
        ]
       ],
       "shape": {
        "columns": 1,
        "rows": 29580
       }
      },
      "text/plain": [
       "0        525000\n",
       "1        290000\n",
       "2        328000\n",
       "3        380000\n",
       "4        310000\n",
       "          ...  \n",
       "29575    500000\n",
       "29576    560000\n",
       "29577    464950\n",
       "29578    589000\n",
       "29579    775000\n",
       "Name: price, Length: 29580, dtype: int64"
      ]
     },
     "execution_count": 5,
     "metadata": {},
     "output_type": "execute_result"
    }
   ],
   "source": [
    "data.price"
   ]
  },
  {
   "cell_type": "code",
   "execution_count": 6,
   "id": "74efb480",
   "metadata": {},
   "outputs": [
    {
     "data": {
      "text/plain": [
       "[1530000,\n",
       " 1780000,\n",
       " 1460000,\n",
       " 3500000,\n",
       " 2100000,\n",
       " 1580000,\n",
       " 2600000,\n",
       " 1875000,\n",
       " 2200000,\n",
       " 1620000,\n",
       " 1562500,\n",
       " 2350000,\n",
       " 1580000,\n",
       " 7300000,\n",
       " 1670000,\n",
       " 1780000,\n",
       " 2400000,\n",
       " 1530000,\n",
       " 1567140,\n",
       " 1700000,\n",
       " 1675000,\n",
       " 2060000,\n",
       " 1750000,\n",
       " 1500000,\n",
       " 1725000,\n",
       " 1455000,\n",
       " 2000000,\n",
       " 1475000,\n",
       " 4150000,\n",
       " 1780000,\n",
       " 1650000,\n",
       " 2500000,\n",
       " 5425000,\n",
       " 2200000,\n",
       " 2375000,\n",
       " 2100000,\n",
       " 1950000,\n",
       " 1980000,\n",
       " 1525000,\n",
       " 1900000,\n",
       " 1460000,\n",
       " 1500000,\n",
       " 1500000,\n",
       " 2760000,\n",
       " 1550000,\n",
       " 1605000,\n",
       " 1730000,\n",
       " 1650000,\n",
       " 1575000,\n",
       " 1530000,\n",
       " 1510000,\n",
       " 1501000,\n",
       " 1880000,\n",
       " 1620000,\n",
       " 1650000,\n",
       " 1470000,\n",
       " 1495000,\n",
       " 1600000,\n",
       " 1910000,\n",
       " 1485000,\n",
       " 1965000,\n",
       " 1640000,\n",
       " 1777500,\n",
       " 1500000,\n",
       " 1480000,\n",
       " 1650000,\n",
       " 1625000,\n",
       " 1540000,\n",
       " 2600000,\n",
       " 1900000,\n",
       " 3160000,\n",
       " 1975000,\n",
       " 1555000,\n",
       " 1900000,\n",
       " 1785000,\n",
       " 1701000,\n",
       " 1510000,\n",
       " 2080000,\n",
       " 3400000,\n",
       " 2050000,\n",
       " 1510000,\n",
       " 2550000,\n",
       " 1900000,\n",
       " 1801000,\n",
       " 1950000,\n",
       " 3400000,\n",
       " 1650000,\n",
       " 1915000,\n",
       " 1870000,\n",
       " 1560000,\n",
       " 2400000,\n",
       " 2090000,\n",
       " 1490000,\n",
       " 1670000,\n",
       " 1550000,\n",
       " 1560000,\n",
       " 1700000,\n",
       " 1800000,\n",
       " 1900000,\n",
       " 1710000,\n",
       " 1475000,\n",
       " 2125000,\n",
       " 1600000,\n",
       " 1675000,\n",
       " 1952500,\n",
       " 1670000,\n",
       " 1665000,\n",
       " 2150000,\n",
       " 1460000,\n",
       " 1715000,\n",
       " 1750000,\n",
       " 1750000,\n",
       " 2100000,\n",
       " 1800000,\n",
       " 2200000,\n",
       " 1740000,\n",
       " 1730000,\n",
       " 1800000,\n",
       " 1900000,\n",
       " 1550000,\n",
       " 1600000,\n",
       " 2170000,\n",
       " 2225000,\n",
       " 1884800,\n",
       " 2050000,\n",
       " 1635000,\n",
       " 1860000,\n",
       " 2450000,\n",
       " 1570000,\n",
       " 1535000,\n",
       " 1500000,\n",
       " 2660000,\n",
       " 1470000,\n",
       " 2010000,\n",
       " 2250000,\n",
       " 8000000,\n",
       " 1705000,\n",
       " 2090000,\n",
       " 2202000,\n",
       " 2322000,\n",
       " 1470000,\n",
       " 1500000,\n",
       " 2100000,\n",
       " 1700000,\n",
       " 1480000,\n",
       " 1496000,\n",
       " 1625000,\n",
       " 1800000,\n",
       " 1720000,\n",
       " 2320000,\n",
       " 1510000,\n",
       " 2440000,\n",
       " 1725000,\n",
       " 2300000,\n",
       " 2200000,\n",
       " 1850000,\n",
       " 1800000,\n",
       " 1850000,\n",
       " 1860000,\n",
       " 1470000,\n",
       " 1525000,\n",
       " 2585000,\n",
       " 1585000,\n",
       " 1900000,\n",
       " 1500000,\n",
       " 1640000,\n",
       " 1515000,\n",
       " 1903500,\n",
       " 1965000,\n",
       " 1701000,\n",
       " 1530000,\n",
       " 1680000,\n",
       " 2050000,\n",
       " 1495000,\n",
       " 1565000,\n",
       " 1475000,\n",
       " 1465000,\n",
       " 1580000,\n",
       " 1655000,\n",
       " 1580000,\n",
       " 3950000,\n",
       " 1670000,\n",
       " 1520000,\n",
       " 1885000,\n",
       " 1750000,\n",
       " 1910000,\n",
       " 1630000,\n",
       " 1550000,\n",
       " 1610000,\n",
       " 1590000,\n",
       " 1610000,\n",
       " 2100000,\n",
       " 1500000,\n",
       " 1770000,\n",
       " 1800000,\n",
       " 1457000,\n",
       " 2595000,\n",
       " 1800000,\n",
       " 1600000,\n",
       " 1520000,\n",
       " 2206000,\n",
       " 2425000,\n",
       " 1467000,\n",
       " 1495000,\n",
       " 1660000,\n",
       " 1810000,\n",
       " 1840000,\n",
       " 1530000,\n",
       " 3625000,\n",
       " 1655000,\n",
       " 6480000,\n",
       " 5475000,\n",
       " 1720000,\n",
       " 1910000,\n",
       " 2520000,\n",
       " 4417000,\n",
       " 1475000,\n",
       " 1960000,\n",
       " 1480000,\n",
       " 1530000,\n",
       " 2300000,\n",
       " 2230000,\n",
       " 1525000,\n",
       " 1749000,\n",
       " 2470000,\n",
       " 1600000,\n",
       " 2225000,\n",
       " 1600000,\n",
       " 2030000,\n",
       " 1580000,\n",
       " 1650000,\n",
       " 3000000,\n",
       " 1550000,\n",
       " 1458000,\n",
       " 1700000,\n",
       " 2400000,\n",
       " 1547000,\n",
       " 1560000,\n",
       " 1628000,\n",
       " 1675000,\n",
       " 2075000,\n",
       " 1975000,\n",
       " 1630000,\n",
       " 1615000,\n",
       " 1625000,\n",
       " 2000000,\n",
       " 1830000,\n",
       " 2275000,\n",
       " 1650000,\n",
       " 2475000,\n",
       " 1800000,\n",
       " 1520000,\n",
       " 1495000,\n",
       " 1455000,\n",
       " 1475000,\n",
       " 1600000,\n",
       " 2570000,\n",
       " 1900000,\n",
       " 2250000,\n",
       " 1476000,\n",
       " 1925000,\n",
       " 2485000,\n",
       " 1780000,\n",
       " 2040000,\n",
       " 1600000,\n",
       " 1870000,\n",
       " 2160000,\n",
       " 1550000,\n",
       " 1485000,\n",
       " 1550000,\n",
       " 1694000,\n",
       " 1541000,\n",
       " 1470000,\n",
       " 3500000,\n",
       " 2150000,\n",
       " 2200000,\n",
       " 1490000,\n",
       " 2170000,\n",
       " 1610000,\n",
       " 1701000,\n",
       " 2250000,\n",
       " 2105000,\n",
       " 1515000,\n",
       " 2035000,\n",
       " 2150000,\n",
       " 1480000,\n",
       " 1600000,\n",
       " 4220000,\n",
       " 1950000,\n",
       " 1685000,\n",
       " 2900000,\n",
       " 1950000,\n",
       " 2875000,\n",
       " 1925000,\n",
       " 1550000,\n",
       " 1675000,\n",
       " 1710000,\n",
       " 1460000,\n",
       " 2075000,\n",
       " 1511000,\n",
       " 1892000,\n",
       " 2200000,\n",
       " 1665000,\n",
       " 1825000,\n",
       " 1690000,\n",
       " 2252750,\n",
       " 1543000,\n",
       " 2235000,\n",
       " 1460000,\n",
       " 1775000,\n",
       " 1500000,\n",
       " 1595000,\n",
       " 1630000,\n",
       " 2950000,\n",
       " 1875000,\n",
       " 1520000,\n",
       " 1730000,\n",
       " 1880000,\n",
       " 1500000,\n",
       " 1841000,\n",
       " 2250000,\n",
       " 4700000,\n",
       " 1985000,\n",
       " 1505000,\n",
       " 1670000,\n",
       " 1690000,\n",
       " 3160000,\n",
       " 1470000,\n",
       " 2500000,\n",
       " 2120000,\n",
       " 2970000,\n",
       " 1510000,\n",
       " 1600000,\n",
       " 1840000,\n",
       " 2125000,\n",
       " 2925000,\n",
       " 1850000,\n",
       " 1675000,\n",
       " 3050000,\n",
       " 1570000,\n",
       " 2600000,\n",
       " 1759000,\n",
       " 1650000,\n",
       " 1840000,\n",
       " 1465000,\n",
       " 2800000,\n",
       " 1490000,\n",
       " 1630000,\n",
       " 1870000,\n",
       " 1513000,\n",
       " 1600000,\n",
       " 1680000,\n",
       " 1700000,\n",
       " 1750000,\n",
       " 2250000,\n",
       " 1620000,\n",
       " 1465000,\n",
       " 2335000,\n",
       " 2150000,\n",
       " 1750000,\n",
       " 1760000,\n",
       " 3750000,\n",
       " 1605000,\n",
       " 2900000,\n",
       " 1801000,\n",
       " 1955000,\n",
       " 1560000,\n",
       " 2050000,\n",
       " 2285000,\n",
       " 1550000,\n",
       " 1460000,\n",
       " 1641000,\n",
       " 1699000,\n",
       " 1525000,\n",
       " 1575000,\n",
       " 2740000,\n",
       " 2950000,\n",
       " 2130000,\n",
       " 2200000,\n",
       " 1625000,\n",
       " 1870000,\n",
       " 1610000,\n",
       " 1550000,\n",
       " 1880000,\n",
       " 1500000,\n",
       " 1650000,\n",
       " 1845000,\n",
       " 1770000,\n",
       " 1550000,\n",
       " 1680000,\n",
       " 1500000,\n",
       " 1550000,\n",
       " 1578000,\n",
       " 1931000,\n",
       " 1500000,\n",
       " 1500000,\n",
       " 1510000,\n",
       " 2701000,\n",
       " 1700000,\n",
       " 1467000,\n",
       " 1470000,\n",
       " 1800000,\n",
       " 1720000,\n",
       " 1490000,\n",
       " 2500000,\n",
       " 1554000,\n",
       " 2610000,\n",
       " 1950000,\n",
       " 1560000,\n",
       " 1590000,\n",
       " 2250000,\n",
       " 1600000,\n",
       " 1510000,\n",
       " 1598000,\n",
       " 1730000,\n",
       " 1860000,\n",
       " 1540000,\n",
       " 1625000,\n",
       " 1770000,\n",
       " 1580000,\n",
       " 1522500,\n",
       " 1840000,\n",
       " 2575000,\n",
       " 1500000,\n",
       " 1700000,\n",
       " 1675000,\n",
       " 1480000,\n",
       " 2190000,\n",
       " 1500000,\n",
       " 1735000,\n",
       " 1500000,\n",
       " 2195000,\n",
       " 1975000,\n",
       " 1461000,\n",
       " 1630000,\n",
       " 1770000,\n",
       " 1701000,\n",
       " 1550000,\n",
       " 1590000,\n",
       " 1650000,\n",
       " 1520000,\n",
       " 1700000,\n",
       " 1575000,\n",
       " 1649000,\n",
       " 1525000,\n",
       " 1900000,\n",
       " 1570000,\n",
       " 4500000,\n",
       " 1462000,\n",
       " 2425000,\n",
       " 1555000,\n",
       " 1490000,\n",
       " 1575000,\n",
       " 1980000,\n",
       " 2500000,\n",
       " 1550000,\n",
       " 1469900,\n",
       " 1495000,\n",
       " 1495000,\n",
       " 2280000,\n",
       " 1562500]"
      ]
     },
     "execution_count": 6,
     "metadata": {},
     "output_type": "execute_result"
    }
   ],
   "source": [
    "list_1 = find_anomalies(data['price'])\n",
    "list_1"
   ]
  },
  {
   "cell_type": "code",
   "execution_count": 7,
   "id": "368a87ab",
   "metadata": {},
   "outputs": [
    {
     "data": {
      "text/plain": [
       "461"
      ]
     },
     "execution_count": 7,
     "metadata": {},
     "output_type": "execute_result"
    }
   ],
   "source": [
    "len(list_1)"
   ]
  },
  {
   "cell_type": "code",
   "execution_count": 8,
   "id": "28941500",
   "metadata": {},
   "outputs": [
    {
     "data": {
      "text/plain": [
       "np.float64(4.312009366902367)"
      ]
     },
     "execution_count": 8,
     "metadata": {},
     "output_type": "execute_result"
    }
   ],
   "source": [
    "data.price.skew()"
   ]
  },
  {
   "cell_type": "code",
   "execution_count": 9,
   "id": "c2842f62",
   "metadata": {},
   "outputs": [],
   "source": [
    "import seaborn as sns"
   ]
  },
  {
   "cell_type": "code",
   "execution_count": 10,
   "id": "38374206",
   "metadata": {},
   "outputs": [
    {
     "data": {
      "text/plain": [
       "<Axes: xlabel='price', ylabel='Density'>"
      ]
     },
     "execution_count": 10,
     "metadata": {},
     "output_type": "execute_result"
    },
    {
     "data": {
      "image/png": "[encoded data removed]",
      "text/plain": [
       "<Figure size 640x480 with 1 Axes>"
      ]
     },
     "metadata": {},
     "output_type": "display_data"
    }
   ],
   "source": [
    "sns.kdeplot(data.price)"
   ]
  },
  {
   "cell_type": "code",
   "execution_count": 11,
   "id": "f8115efd",
   "metadata": {},
   "outputs": [],
   "source": [
    "data['price_transformd'] = np.log(data.price)"
   ]
  },
  {
   "cell_type": "code",
   "execution_count": 12,
   "id": "330bd98f",
   "metadata": {},
   "outputs": [
    {
     "data": {
      "text/plain": [
       "np.float64(0.47316462699847633)"
      ]
     },
     "execution_count": 12,
     "metadata": {},
     "output_type": "execute_result"
    }
   ],
   "source": [
    "data.price_transformd.skew()"
   ]
  },
  {
   "cell_type": "code",
   "execution_count": 13,
   "id": "0521efdc",
   "metadata": {},
   "outputs": [],
   "source": [
    "list_2 = find_anomalies(data.price_transformd)"
   ]
  },
  {
   "cell_type": "code",
   "execution_count": 14,
   "id": "11ced41a",
   "metadata": {},
   "outputs": [
    {
     "data": {
      "text/plain": [
       "266"
      ]
     },
     "execution_count": 14,
     "metadata": {},
     "output_type": "execute_result"
    }
   ],
   "source": [
    "len(list_2)"
   ]
  },
  {
   "cell_type": "code",
   "execution_count": 15,
   "id": "6795d62e",
   "metadata": {},
   "outputs": [
    {
     "data": {
      "text/plain": [
       "29580"
      ]
     },
     "execution_count": 15,
     "metadata": {},
     "output_type": "execute_result"
    }
   ],
   "source": [
    "len(data)"
   ]
  },
  {
   "cell_type": "code",
   "execution_count": 16,
   "id": "fb05f566",
   "metadata": {},
   "outputs": [
    {
     "data": {
      "text/plain": [
       "<Axes: xlabel='price_transformd', ylabel='Density'>"
      ]
     },
     "execution_count": 16,
     "metadata": {},
     "output_type": "execute_result"
    },
    {
     "data": {
      "image/png": "[encoded data removed]",
      "text/plain": [
       "<Figure size 640x480 with 1 Axes>"
      ]
     },
     "metadata": {},
     "output_type": "display_data"
    }
   ],
   "source": [
    "sns.kdeplot(data.price_transformd)"
   ]
  },
  {
   "cell_type": "code",
   "execution_count": 17,
   "id": "584b5f22",
   "metadata": {},
   "outputs": [],
   "source": [
    "data['price_transformed_double'] = np.log(data.price_transformd)"
   ]
  },
  {
   "cell_type": "code",
   "execution_count": 18,
   "id": "05540a58",
   "metadata": {},
   "outputs": [
    {
     "data": {
      "text/plain": [
       "np.float64(0.33092530655758595)"
      ]
     },
     "execution_count": 18,
     "metadata": {},
     "output_type": "execute_result"
    }
   ],
   "source": [
    "data['price_transformed_double'].skew()"
   ]
  },
  {
   "cell_type": "code",
   "execution_count": 19,
   "id": "99306081",
   "metadata": {},
   "outputs": [],
   "source": [
    "list_3 = find_anomalies(data.price_transformed_double)"
   ]
  },
  {
   "cell_type": "code",
   "execution_count": 20,
   "id": "17649bcc",
   "metadata": {},
   "outputs": [
    {
     "data": {
      "text/plain": [
       "251"
      ]
     },
     "execution_count": 20,
     "metadata": {},
     "output_type": "execute_result"
    }
   ],
   "source": [
    "len(list_3)"
   ]
  },
  {
   "cell_type": "code",
   "execution_count": 21,
   "id": "c91e26a6",
   "metadata": {},
   "outputs": [
    {
     "data": {
      "text/plain": [
       "29580"
      ]
     },
     "execution_count": 21,
     "metadata": {},
     "output_type": "execute_result"
    }
   ],
   "source": [
    "len(data)"
   ]
  },
  {
   "cell_type": "markdown",
   "id": "1e834551",
   "metadata": {},
   "source": [
    "### Boxplots"
   ]
  },
  {
   "cell_type": "code",
   "execution_count": 22,
   "id": "18d5ce84",
   "metadata": {},
   "outputs": [
    {
     "data": {
      "text/plain": [
       "<Axes: >"
      ]
     },
     "execution_count": 22,
     "metadata": {},
     "output_type": "execute_result"
    },
    {
     "data": {
      "image/png": "[encoded data removed]",
      "text/plain": [
       "<Figure size 640x480 with 1 Axes>"
      ]
     },
     "metadata": {},
     "output_type": "display_data"
    }
   ],
   "source": [
    "sns.boxplot(data=data)"
   ]
  },
  {
   "cell_type": "code",
   "execution_count": 23,
   "id": "9ae89013",
   "metadata": {},
   "outputs": [],
   "source": [
    "import pandas as pd\n",
    "df = pd.DataFrame(data)"
   ]
  },
  {
   "cell_type": "code",
   "execution_count": 24,
   "id": "a2926fe5",
   "metadata": {},
   "outputs": [
    {
     "data": {
      "text/plain": [
       "29580"
      ]
     },
     "execution_count": 24,
     "metadata": {},
     "output_type": "execute_result"
    }
   ],
   "source": [
    "len(df)"
   ]
  },
  {
   "cell_type": "code",
   "execution_count": 25,
   "id": "d63e42d1",
   "metadata": {},
   "outputs": [
    {
     "data": {
      "application/vnd.microsoft.datawrangler.viewer.v0+json": {
       "columns": [
        {
         "name": "index",
         "rawType": "int64",
         "type": "integer"
        },
        {
         "name": "datesold",
         "rawType": "object",
         "type": "string"
        },
        {
         "name": "postcode",
         "rawType": "int64",
         "type": "integer"
        },
        {
         "name": "price",
         "rawType": "int64",
         "type": "integer"
        },
        {
         "name": "propertyType",
         "rawType": "object",
         "type": "string"
        },
        {
         "name": "bedrooms",
         "rawType": "int64",
         "type": "integer"
        },
        {
         "name": "price_transformd",
         "rawType": "float64",
         "type": "float"
        },
        {
         "name": "price_transformed_double",
         "rawType": "float64",
         "type": "float"
        }
       ],
       "ref": "ec0c0846-f7bf-4a1e-9d71-689d58c3c518",
       "rows": [
        [
         "0",
         "2007-02-07 00:00:00",
         "2607",
         "525000",
         "house",
         "4",
         "13.17115354157376",
         "2.578029100497648"
        ],
        [
         "1",
         "2007-02-27 00:00:00",
         "2906",
         "290000",
         "house",
         "3",
         "12.577636201962656",
         "2.5319203323418096"
        ],
        [
         "2",
         "2007-03-07 00:00:00",
         "2905",
         "328000",
         "house",
         "3",
         "12.70076888736628",
         "2.541662533944239"
        ],
        [
         "3",
         "2007-03-09 00:00:00",
         "2905",
         "380000",
         "house",
         "4",
         "12.84792653170257",
         "2.553182438920822"
        ],
        [
         "4",
         "2007-03-21 00:00:00",
         "2906",
         "310000",
         "house",
         "3",
         "12.644327576461329",
         "2.5372087016784293"
        ],
        [
         "5",
         "2007-04-04 00:00:00",
         "2905",
         "465000",
         "house",
         "4",
         "13.049792684569493",
         "2.568772247402629"
        ],
        [
         "6",
         "2007-04-24 00:00:00",
         "2607",
         "399000",
         "house",
         "3",
         "12.896716695872",
         "2.5569727592721456"
        ],
        [
         "7",
         "2007-04-30 00:00:00",
         "2606",
         "1530000",
         "house",
         "4",
         "14.240778293368619",
         "2.6561095599234656"
        ],
        [
         "8",
         "2007-05-24 00:00:00",
         "2902",
         "359000",
         "house",
         "3",
         "12.791077667470416",
         "2.548747870639351"
        ],
        [
         "9",
         "2007-05-25 00:00:00",
         "2906",
         "320000",
         "house",
         "3",
         "12.676076274775909",
         "2.539716459069636"
        ],
        [
         "10",
         "2007-06-26 00:00:00",
         "2902",
         "385000",
         "house",
         "3",
         "12.86099861326992",
         "2.5541993684595075"
        ],
        [
         "11",
         "2007-06-27 00:00:00",
         "2906",
         "305000",
         "house",
         "3",
         "12.628067055589549",
         "2.535921880753673"
        ],
        [
         "12",
         "2007-06-27 00:00:00",
         "2612",
         "850000",
         "house",
         "4",
         "13.652991628466498",
         "2.61395866453803"
        ],
        [
         "13",
         "2007-06-28 00:00:00",
         "2904",
         "765000",
         "house",
         "4",
         "13.547631112808673",
         "2.606211706418953"
        ],
        [
         "14",
         "2007-06-30 00:00:00",
         "2615",
         "517000",
         "house",
         "4",
         "13.155798153490567",
         "2.576862585665069"
        ],
        [
         "15",
         "2007-07-02 00:00:00",
         "2914",
         "800000",
         "house",
         "5",
         "13.592367006650065",
         "2.6095083856715187"
        ],
        [
         "16",
         "2007-07-03 00:00:00",
         "2906",
         "336000",
         "house",
         "3",
         "12.724866438945341",
         "2.5435580664243593"
        ],
        [
         "17",
         "2007-07-06 00:00:00",
         "2615",
         "535000",
         "house",
         "5",
         "13.190022025878143",
         "2.579460636620031"
        ],
        [
         "18",
         "2007-07-07 00:00:00",
         "2602",
         "900000",
         "house",
         "4",
         "13.710150042306449",
         "2.6181364375191847"
        ],
        [
         "19",
         "2007-07-08 00:00:00",
         "2600",
         "327000",
         "house",
         "1",
         "12.697715449879391",
         "2.5414220914468797"
        ],
        [
         "20",
         "2007-07-12 00:00:00",
         "2602",
         "427500",
         "house",
         "3",
         "12.965709567358951",
         "2.562308146946088"
        ],
        [
         "21",
         "2007-07-13 00:00:00",
         "2602",
         "780000",
         "house",
         "3",
         "13.567049198665774",
         "2.6076439998447776"
        ],
        [
         "22",
         "2007-07-18 00:00:00",
         "2602",
         "530000",
         "house",
         "3",
         "13.180632285528304",
         "2.5787485010290228"
        ],
        [
         "23",
         "2007-07-18 00:00:00",
         "2602",
         "590000",
         "house",
         "3",
         "13.287877815881902",
         "2.5868521771966164"
        ],
        [
         "24",
         "2007-07-20 00:00:00",
         "2605",
         "525000",
         "house",
         "3",
         "13.17115354157376",
         "2.578029100497648"
        ],
        [
         "25",
         "2007-07-20 00:00:00",
         "2904",
         "549000",
         "house",
         "4",
         "13.215853720491667",
         "2.581417148352633"
        ],
        [
         "26",
         "2007-07-21 00:00:00",
         "2603",
         "1780000",
         "house",
         "4",
         "14.392123922268269",
         "2.6666811071078453"
        ],
        [
         "27",
         "2007-07-30 00:00:00",
         "2611",
         "446000",
         "house",
         "3",
         "13.008074231002201",
         "2.565570259354532"
        ],
        [
         "28",
         "2007-07-30 00:00:00",
         "2607",
         "558000",
         "house",
         "4",
         "13.232114241363448",
         "2.5826467719625845"
        ],
        [
         "29",
         "2007-07-31 00:00:00",
         "2605",
         "506000",
         "house",
         "3",
         "13.134291948269603",
         "2.5752265159570613"
        ],
        [
         "30",
         "2007-07-31 00:00:00",
         "2903",
         "520000",
         "house",
         "4",
         "13.16158409055761",
         "2.577302290276007"
        ],
        [
         "31",
         "2007-08-03 00:00:00",
         "2905",
         "383000",
         "house",
         "3",
         "12.855790268162783",
         "2.553794314375783"
        ],
        [
         "32",
         "2007-08-03 00:00:00",
         "2607",
         "520000",
         "house",
         "3",
         "13.16158409055761",
         "2.577302290276007"
        ],
        [
         "33",
         "2007-08-07 00:00:00",
         "2904",
         "815000",
         "house",
         "5",
         "13.610943392223",
         "2.610874130368619"
        ],
        [
         "34",
         "2007-08-10 00:00:00",
         "2602",
         "545500",
         "house",
         "3",
         "13.209458084255262",
         "2.5809330945478157"
        ],
        [
         "35",
         "2007-08-10 00:00:00",
         "2602",
         "760000",
         "house",
         "3",
         "13.541073712262515",
         "2.6057275636209427"
        ],
        [
         "36",
         "2007-08-11 00:00:00",
         "2602",
         "520000",
         "house",
         "3",
         "13.16158409055761",
         "2.577302290276007"
        ],
        [
         "37",
         "2007-08-11 00:00:00",
         "2606",
         "636000",
         "house",
         "3",
         "13.36295384232226",
         "2.5924862396525903"
        ],
        [
         "38",
         "2007-08-14 00:00:00",
         "2617",
         "625000",
         "house",
         "4",
         "13.345506928718539",
         "2.5911797685507985"
        ],
        [
         "39",
         "2007-08-16 00:00:00",
         "2600",
         "790000",
         "house",
         "4",
         "13.579788224443204",
         "2.6085825273435033"
        ],
        [
         "40",
         "2007-08-21 00:00:00",
         "2905",
         "320000",
         "house",
         "3",
         "12.676076274775909",
         "2.539716459069636"
        ],
        [
         "41",
         "2007-08-21 00:00:00",
         "2902",
         "418000",
         "house",
         "5",
         "12.943236711506893",
         "2.5605733900597247"
        ],
        [
         "42",
         "2007-08-21 00:00:00",
         "2905",
         "455000",
         "house",
         "4",
         "13.028052697933088",
         "2.567104932380713"
        ],
        [
         "43",
         "2007-08-23 00:00:00",
         "2913",
         "560000",
         "house",
         "4",
         "13.235692062711331",
         "2.5829171246566136"
        ],
        [
         "44",
         "2007-08-24 00:00:00",
         "2904",
         "585000",
         "house",
         "4",
         "13.279367126213993",
         "2.586211486754112"
        ],
        [
         "45",
         "2007-08-28 00:00:00",
         "2906",
         "325000",
         "house",
         "2",
         "12.691580461311874",
         "2.5409388178099594"
        ],
        [
         "46",
         "2007-08-28 00:00:00",
         "2902",
         "420000",
         "house",
         "4",
         "12.948009990259552",
         "2.560942107631475"
        ],
        [
         "47",
         "2007-08-29 00:00:00",
         "2602",
         "599000",
         "house",
         "3",
         "13.303016877097587",
         "2.587990842369504"
        ],
        [
         "48",
         "2007-08-30 00:00:00",
         "2905",
         "315000",
         "house",
         "2",
         "12.66032791780777",
         "2.5384733182611328"
        ],
        [
         "49",
         "2007-08-30 00:00:00",
         "2913",
         "367000",
         "house",
         "3",
         "12.813117127036707",
         "2.550469421751303"
        ]
       ],
       "shape": {
        "columns": 7,
        "rows": 29580
       }
      },
      "text/html": [
       "<div>\n",
       "<style scoped>\n",
       "    .dataframe tbody tr th:only-of-type {\n",
       "        vertical-align: middle;\n",
       "    }\n",
       "\n",
       "    .dataframe tbody tr th {\n",
       "        vertical-align: top;\n",
       "    }\n",
       "\n",
       "    .dataframe thead th {\n",
       "        text-align: right;\n",
       "    }\n",
       "</style>\n",
       "<table border=\"1\" class=\"dataframe\">\n",
       "  <thead>\n",
       "    <tr style=\"text-align: right;\">\n",
       "      <th></th>\n",
       "      <th>datesold</th>\n",
       "      <th>postcode</th>\n",
       "      <th>price</th>\n",
       "      <th>propertyType</th>\n",
       "      <th>bedrooms</th>\n",
       "      <th>price_transformd</th>\n",
       "      <th>price_transformed_double</th>\n",
       "    </tr>\n",
       "  </thead>\n",
       "  <tbody>\n",
       "    <tr>\n",
       "      <th>0</th>\n",
       "      <td>2007-02-07 00:00:00</td>\n",
       "      <td>2607</td>\n",
       "      <td>525000</td>\n",
       "      <td>house</td>\n",
       "      <td>4</td>\n",
       "      <td>13.171154</td>\n",
       "      <td>2.578029</td>\n",
       "    </tr>\n",
       "    <tr>\n",
       "      <th>1</th>\n",
       "      <td>2007-02-27 00:00:00</td>\n",
       "      <td>2906</td>\n",
       "      <td>290000</td>\n",
       "      <td>house</td>\n",
       "      <td>3</td>\n",
       "      <td>12.577636</td>\n",
       "      <td>2.531920</td>\n",
       "    </tr>\n",
       "    <tr>\n",
       "      <th>2</th>\n",
       "      <td>2007-03-07 00:00:00</td>\n",
       "      <td>2905</td>\n",
       "      <td>328000</td>\n",
       "      <td>house</td>\n",
       "      <td>3</td>\n",
       "      <td>12.700769</td>\n",
       "      <td>2.541663</td>\n",
       "    </tr>\n",
       "    <tr>\n",
       "      <th>3</th>\n",
       "      <td>2007-03-09 00:00:00</td>\n",
       "      <td>2905</td>\n",
       "      <td>380000</td>\n",
       "      <td>house</td>\n",
       "      <td>4</td>\n",
       "      <td>12.847927</td>\n",
       "      <td>2.553182</td>\n",
       "    </tr>\n",
       "    <tr>\n",
       "      <th>4</th>\n",
       "      <td>2007-03-21 00:00:00</td>\n",
       "      <td>2906</td>\n",
       "      <td>310000</td>\n",
       "      <td>house</td>\n",
       "      <td>3</td>\n",
       "      <td>12.644328</td>\n",
       "      <td>2.537209</td>\n",
       "    </tr>\n",
       "    <tr>\n",
       "      <th>...</th>\n",
       "      <td>...</td>\n",
       "      <td>...</td>\n",
       "      <td>...</td>\n",
       "      <td>...</td>\n",
       "      <td>...</td>\n",
       "      <td>...</td>\n",
       "      <td>...</td>\n",
       "    </tr>\n",
       "    <tr>\n",
       "      <th>29575</th>\n",
       "      <td>2019-07-25 00:00:00</td>\n",
       "      <td>2900</td>\n",
       "      <td>500000</td>\n",
       "      <td>unit</td>\n",
       "      <td>3</td>\n",
       "      <td>13.122363</td>\n",
       "      <td>2.574318</td>\n",
       "    </tr>\n",
       "    <tr>\n",
       "      <th>29576</th>\n",
       "      <td>2019-07-25 00:00:00</td>\n",
       "      <td>2612</td>\n",
       "      <td>560000</td>\n",
       "      <td>unit</td>\n",
       "      <td>2</td>\n",
       "      <td>13.235692</td>\n",
       "      <td>2.582917</td>\n",
       "    </tr>\n",
       "    <tr>\n",
       "      <th>29577</th>\n",
       "      <td>2019-07-26 00:00:00</td>\n",
       "      <td>2912</td>\n",
       "      <td>464950</td>\n",
       "      <td>unit</td>\n",
       "      <td>2</td>\n",
       "      <td>13.049685</td>\n",
       "      <td>2.568764</td>\n",
       "    </tr>\n",
       "    <tr>\n",
       "      <th>29578</th>\n",
       "      <td>2019-07-26 00:00:00</td>\n",
       "      <td>2601</td>\n",
       "      <td>589000</td>\n",
       "      <td>unit</td>\n",
       "      <td>2</td>\n",
       "      <td>13.286181</td>\n",
       "      <td>2.586725</td>\n",
       "    </tr>\n",
       "    <tr>\n",
       "      <th>29579</th>\n",
       "      <td>2019-07-26 00:00:00</td>\n",
       "      <td>2612</td>\n",
       "      <td>775000</td>\n",
       "      <td>unit</td>\n",
       "      <td>2</td>\n",
       "      <td>13.560618</td>\n",
       "      <td>2.607170</td>\n",
       "    </tr>\n",
       "  </tbody>\n",
       "</table>\n",
       "<p>29580 rows × 7 columns</p>\n",
       "</div>"
      ],
      "text/plain": [
       "                  datesold  postcode   price propertyType  bedrooms  \\\n",
       "0      2007-02-07 00:00:00      2607  525000        house         4   \n",
       "1      2007-02-27 00:00:00      2906  290000        house         3   \n",
       "2      2007-03-07 00:00:00      2905  328000        house         3   \n",
       "3      2007-03-09 00:00:00      2905  380000        house         4   \n",
       "4      2007-03-21 00:00:00      2906  310000        house         3   \n",
       "...                    ...       ...     ...          ...       ...   \n",
       "29575  2019-07-25 00:00:00      2900  500000         unit         3   \n",
       "29576  2019-07-25 00:00:00      2612  560000         unit         2   \n",
       "29577  2019-07-26 00:00:00      2912  464950         unit         2   \n",
       "29578  2019-07-26 00:00:00      2601  589000         unit         2   \n",
       "29579  2019-07-26 00:00:00      2612  775000         unit         2   \n",
       "\n",
       "       price_transformd  price_transformed_double  \n",
       "0             13.171154                  2.578029  \n",
       "1             12.577636                  2.531920  \n",
       "2             12.700769                  2.541663  \n",
       "3             12.847927                  2.553182  \n",
       "4             12.644328                  2.537209  \n",
       "...                 ...                       ...  \n",
       "29575         13.122363                  2.574318  \n",
       "29576         13.235692                  2.582917  \n",
       "29577         13.049685                  2.568764  \n",
       "29578         13.286181                  2.586725  \n",
       "29579         13.560618                  2.607170  \n",
       "\n",
       "[29580 rows x 7 columns]"
      ]
     },
     "execution_count": 25,
     "metadata": {},
     "output_type": "execute_result"
    }
   ],
   "source": [
    "df"
   ]
  },
  {
   "cell_type": "code",
   "execution_count": 26,
   "id": "949c477a",
   "metadata": {},
   "outputs": [
    {
     "data": {
      "application/vnd.microsoft.datawrangler.viewer.v0+json": {
       "columns": [
        {
         "name": "index",
         "rawType": "object",
         "type": "string"
        },
        {
         "name": "postcode",
         "rawType": "float64",
         "type": "float"
        },
        {
         "name": "price",
         "rawType": "float64",
         "type": "float"
        },
        {
         "name": "bedrooms",
         "rawType": "float64",
         "type": "float"
        },
        {
         "name": "price_transformd",
         "rawType": "float64",
         "type": "float"
        },
        {
         "name": "price_transformed_double",
         "rawType": "float64",
         "type": "float"
        }
       ],
       "ref": "31e4505b-ea8f-4c80-b1b1-da74b3601645",
       "rows": [
        [
         "count",
         "29580.0",
         "29580.0",
         "29580.0",
         "29580.0",
         "29580.0"
        ],
        [
         "mean",
         "2730.249729546991",
         "609736.262204192",
         "3.2501690331304935",
         "13.244695494326452",
         "2.583198730680724"
        ],
        [
         "std",
         "146.71729152086786",
         "281707.905374164",
         "0.951274972332066",
         "0.3752141124362712",
         "0.028183037964365176"
        ],
        [
         "min",
         "2600.0",
         "56500.0",
         "0.0",
         "10.941995917134532",
         "2.392608222504527"
        ],
        [
         "25%",
         "2607.0",
         "440000.0",
         "3.0",
         "12.994530005894443",
         "2.5645285001361646"
        ],
        [
         "50%",
         "2615.0",
         "550000.0",
         "3.0",
         "13.217673557208654",
         "2.5815548399062984"
        ],
        [
         "75%",
         "2905.0",
         "705000.0",
         "4.0",
         "13.465953081794405",
         "2.6001645059193663"
        ],
        [
         "max",
         "2914.0",
         "8000000.0",
         "5.0",
         "15.89495209964411",
         "2.766001580809569"
        ]
       ],
       "shape": {
        "columns": 5,
        "rows": 8
       }
      },
      "text/html": [
       "<div>\n",
       "<style scoped>\n",
       "    .dataframe tbody tr th:only-of-type {\n",
       "        vertical-align: middle;\n",
       "    }\n",
       "\n",
       "    .dataframe tbody tr th {\n",
       "        vertical-align: top;\n",
       "    }\n",
       "\n",
       "    .dataframe thead th {\n",
       "        text-align: right;\n",
       "    }\n",
       "</style>\n",
       "<table border=\"1\" class=\"dataframe\">\n",
       "  <thead>\n",
       "    <tr style=\"text-align: right;\">\n",
       "      <th></th>\n",
       "      <th>postcode</th>\n",
       "      <th>price</th>\n",
       "      <th>bedrooms</th>\n",
       "      <th>price_transformd</th>\n",
       "      <th>price_transformed_double</th>\n",
       "    </tr>\n",
       "  </thead>\n",
       "  <tbody>\n",
       "    <tr>\n",
       "      <th>count</th>\n",
       "      <td>29580.000000</td>\n",
       "      <td>2.958000e+04</td>\n",
       "      <td>29580.000000</td>\n",
       "      <td>29580.000000</td>\n",
       "      <td>29580.000000</td>\n",
       "    </tr>\n",
       "    <tr>\n",
       "      <th>mean</th>\n",
       "      <td>2730.249730</td>\n",
       "      <td>6.097363e+05</td>\n",
       "      <td>3.250169</td>\n",
       "      <td>13.244695</td>\n",
       "      <td>2.583199</td>\n",
       "    </tr>\n",
       "    <tr>\n",
       "      <th>std</th>\n",
       "      <td>146.717292</td>\n",
       "      <td>2.817079e+05</td>\n",
       "      <td>0.951275</td>\n",
       "      <td>0.375214</td>\n",
       "      <td>0.028183</td>\n",
       "    </tr>\n",
       "    <tr>\n",
       "      <th>min</th>\n",
       "      <td>2600.000000</td>\n",
       "      <td>5.650000e+04</td>\n",
       "      <td>0.000000</td>\n",
       "      <td>10.941996</td>\n",
       "      <td>2.392608</td>\n",
       "    </tr>\n",
       "    <tr>\n",
       "      <th>25%</th>\n",
       "      <td>2607.000000</td>\n",
       "      <td>4.400000e+05</td>\n",
       "      <td>3.000000</td>\n",
       "      <td>12.994530</td>\n",
       "      <td>2.564529</td>\n",
       "    </tr>\n",
       "    <tr>\n",
       "      <th>50%</th>\n",
       "      <td>2615.000000</td>\n",
       "      <td>5.500000e+05</td>\n",
       "      <td>3.000000</td>\n",
       "      <td>13.217674</td>\n",
       "      <td>2.581555</td>\n",
       "    </tr>\n",
       "    <tr>\n",
       "      <th>75%</th>\n",
       "      <td>2905.000000</td>\n",
       "      <td>7.050000e+05</td>\n",
       "      <td>4.000000</td>\n",
       "      <td>13.465953</td>\n",
       "      <td>2.600165</td>\n",
       "    </tr>\n",
       "    <tr>\n",
       "      <th>max</th>\n",
       "      <td>2914.000000</td>\n",
       "      <td>8.000000e+06</td>\n",
       "      <td>5.000000</td>\n",
       "      <td>15.894952</td>\n",
       "      <td>2.766002</td>\n",
       "    </tr>\n",
       "  </tbody>\n",
       "</table>\n",
       "</div>"
      ],
      "text/plain": [
       "           postcode         price      bedrooms  price_transformd  \\\n",
       "count  29580.000000  2.958000e+04  29580.000000      29580.000000   \n",
       "mean    2730.249730  6.097363e+05      3.250169         13.244695   \n",
       "std      146.717292  2.817079e+05      0.951275          0.375214   \n",
       "min     2600.000000  5.650000e+04      0.000000         10.941996   \n",
       "25%     2607.000000  4.400000e+05      3.000000         12.994530   \n",
       "50%     2615.000000  5.500000e+05      3.000000         13.217674   \n",
       "75%     2905.000000  7.050000e+05      4.000000         13.465953   \n",
       "max     2914.000000  8.000000e+06      5.000000         15.894952   \n",
       "\n",
       "       price_transformed_double  \n",
       "count              29580.000000  \n",
       "mean                   2.583199  \n",
       "std                    0.028183  \n",
       "min                    2.392608  \n",
       "25%                    2.564529  \n",
       "50%                    2.581555  \n",
       "75%                    2.600165  \n",
       "max                    2.766002  "
      ]
     },
     "execution_count": 26,
     "metadata": {},
     "output_type": "execute_result"
    }
   ],
   "source": [
    "# Statistical information of the dataframe columns\n",
    "df.describe()"
   ]
  },
  {
   "cell_type": "markdown",
   "id": "5002dcf3",
   "metadata": {},
   "source": [
    "#### Inter Quartile Range\n",
    "IQR = Q3 - Q1"
   ]
  },
  {
   "cell_type": "code",
   "execution_count": 27,
   "id": "cf8d9b3c",
   "metadata": {},
   "outputs": [],
   "source": [
    "list1 = [43, 54, 56, 61, 62, 66, 68, 69, 69, 70, 71, 72, 77, 78, 79, 85, 87, 88, 89, 93, 95, 96, 98, 99, 99]"
   ]
  },
  {
   "cell_type": "code",
   "execution_count": 31,
   "id": "17ba291c",
   "metadata": {},
   "outputs": [
    {
     "name": "stdout",
     "output_type": "stream",
     "text": [
      "Lenght: 25\n",
      "Max:  99\n",
      "Min:  43\n"
     ]
    }
   ],
   "source": [
    "print(\"Lenght:\", len(list1))\n",
    "print(\"Max: \", max(list1))\n",
    "print(\"Min: \", min(list1))"
   ]
  },
  {
   "cell_type": "code",
   "execution_count": 32,
   "id": "7ac447fa",
   "metadata": {},
   "outputs": [
    {
     "data": {
      "text/plain": [
       "76.96"
      ]
     },
     "execution_count": 32,
     "metadata": {},
     "output_type": "execute_result"
    }
   ],
   "source": [
    "statistics.mean(list1)"
   ]
  },
  {
   "cell_type": "code",
   "execution_count": 33,
   "id": "4edb166a",
   "metadata": {},
   "outputs": [
    {
     "data": {
      "text/plain": [
       "[43,\n",
       " 54,\n",
       " 56,\n",
       " 61,\n",
       " 62,\n",
       " 66,\n",
       " 68,\n",
       " 69,\n",
       " 69,\n",
       " 70,\n",
       " 71,\n",
       " 72,\n",
       " 77,\n",
       " 78,\n",
       " 79,\n",
       " 85,\n",
       " 87,\n",
       " 88,\n",
       " 89,\n",
       " 93,\n",
       " 95,\n",
       " 96,\n",
       " 98,\n",
       " 99,\n",
       " 99]"
      ]
     },
     "execution_count": 33,
     "metadata": {},
     "output_type": "execute_result"
    }
   ],
   "source": [
    "sorted(list1)"
   ]
  },
  {
   "cell_type": "markdown",
   "id": "2e63cf70",
   "metadata": {},
   "source": [
    "To find the 90th percenrile for these (ordered) scores, start by multiplying 90 percent times the total number of scores, which gives 90% * 25 = 0.90 * 25 = 22.5 (the index). Rounding up to the nearest whole number, you get 23."
   ]
  },
  {
   "cell_type": "code",
   "execution_count": 34,
   "id": "fd552a52",
   "metadata": {},
   "outputs": [],
   "source": [
    "list2 = sorted(list1)"
   ]
  },
  {
   "cell_type": "code",
   "execution_count": 35,
   "id": "3dc5daa0",
   "metadata": {},
   "outputs": [
    {
     "data": {
      "text/plain": [
       "[43,\n",
       " 54,\n",
       " 56,\n",
       " 61,\n",
       " 62,\n",
       " 66,\n",
       " 68,\n",
       " 69,\n",
       " 69,\n",
       " 70,\n",
       " 71,\n",
       " 72,\n",
       " 77,\n",
       " 78,\n",
       " 79,\n",
       " 85,\n",
       " 87,\n",
       " 88,\n",
       " 89,\n",
       " 93,\n",
       " 95,\n",
       " 96,\n",
       " 98,\n",
       " 99,\n",
       " 99]"
      ]
     },
     "execution_count": 35,
     "metadata": {},
     "output_type": "execute_result"
    }
   ],
   "source": [
    "list2"
   ]
  },
  {
   "cell_type": "markdown",
   "id": "7138acc1",
   "metadata": {},
   "source": [
    "Hence, 98 is the 90th percentile for this dataset\n",
    "\n",
    "Now say you want to find the 20th percentile. Start by taking 0.20 x 25 = 5 (the index); this is a whole number, which tells you the 20th percentile is the average of the 5th and 6th values in the ordered data set (62 and 66).\n",
    "\n",
    "so, 20th percentile is 62+66/2 = 64\n",
    "\n",
    "The median (the 50th percentile) for the test scores is the 13th score: 77."
   ]
  }
 ],
 "metadata": {
  "kernelspec": {
   "display_name": "base",
   "language": "python",
   "name": "python3"
  },
  "language_info": {
   "codemirror_mode": {
    "name": "ipython",
    "version": 3
   },
   "file_extension": ".py",
   "mimetype": "text/x-python",
   "name": "python",
   "nbconvert_exporter": "python",
   "pygments_lexer": "ipython3",
   "version": "3.13.5"
  }
 },
 "nbformat": 4,
 "nbformat_minor": 5
}
